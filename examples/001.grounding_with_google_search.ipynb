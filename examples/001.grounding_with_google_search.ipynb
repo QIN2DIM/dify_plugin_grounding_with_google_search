{
 "cells": [
  {
   "metadata": {
    "ExecuteTime": {
     "end_time": "2025-07-24T05:23:38.676637Z",
     "start_time": "2025-07-24T05:23:38.650380Z"
    }
   },
   "cell_type": "code",
   "source": [
    "\n",
    "\n",
    "import dotenv\n",
    "\n",
    "dotenv.load_dotenv()"
   ],
   "id": "b1e54d76a2cebd5b",
   "outputs": [
    {
     "data": {
      "text/plain": [
       "True"
      ]
     },
     "execution_count": 2,
     "metadata": {},
     "output_type": "execute_result"
    }
   ],
   "execution_count": 2
  },
  {
   "cell_type": "code",
   "id": "initial_id",
   "metadata": {
    "collapsed": true,
    "ExecuteTime": {
     "end_time": "2025-07-24T06:39:03.746472Z",
     "start_time": "2025-07-24T06:38:50.196949Z"
    }
   },
   "source": [
    "import os\n",
    "\n",
    "from google import genai\n",
    "from google.genai import types\n",
    "from pathlib import Path\n",
    "import json\n",
    "\n",
    "\n",
    "client = genai.Client(\n",
    "    api_key=os.environ.get(\"GEMINI_API_KEY\"),\n",
    ")\n",
    "\n",
    "model = \"gemini-2.5-flash\"\n",
    "contents = [\n",
    "    types.Content(\n",
    "        role=\"user\",\n",
    "        parts=[\n",
    "            types.Part.from_text(text=\"\"\"民法典第763条的内容\"\"\"),\n",
    "        ],\n",
    "    ),\n",
    "]\n",
    "tools = [types.Tool(google_search=types.GoogleSearch())]\n",
    "generate_content_config = types.GenerateContentConfig(\n",
    "    thinking_config=types.ThinkingConfig(\n",
    "        thinking_budget=0, include_thoughts=False\n",
    "    ),\n",
    "    tools=tools,\n",
    "    response_mime_type=\"text/plain\",\n",
    ")\n",
    "response = client.models.generate_content(model=model, contents=contents, config=generate_content_config)\n",
    "\n",
    "res_json = json.dumps(response.model_dump(mode=\"json\"), indent=2, ensure_ascii=False)\n",
    "Path(\"google_search_result.json\").write_text(res_json, encoding=\"utf-8\")"
   ],
   "outputs": [
    {
     "data": {
      "text/plain": [
       "11962"
      ]
     },
     "execution_count": 13,
     "metadata": {},
     "output_type": "execute_result"
    }
   ],
   "execution_count": 13
  },
  {
   "metadata": {
    "ExecuteTime": {
     "end_time": "2025-07-24T06:39:15.127478Z",
     "start_time": "2025-07-24T06:39:15.122168Z"
    }
   },
   "cell_type": "code",
   "source": "print(response.text)",
   "id": "bb0d88cb2e815f03",
   "outputs": [
    {
     "name": "stdout",
     "output_type": "stream",
     "text": [
      "《中华人民共和国民法典》于2021年1月1日起施行，其中并没有名为“第763条”的条文。根据搜索结果，相关内容可能是在讨论《民法典》背景下对虚假债权转让中债务人表见责任的解释论问题，但这并非直接引用民法典的某一条款，而是结合民法典的原则进行法理分析。\n",
      "\n",
      "《民法典》共有七编，包括总则、物权、合同、人格权、婚姻家庭、继承和侵权责任，并包含附则。每一编下设若干章和条文。例如，合同编中关于合同解除的规则主要体现在第563条及其他相关条文中。\n",
      "\n",
      "因此，如果您提及的“民法典第763条”与债权转让相关，很可能是在探讨基于民法典现有条文和原则引申出的法律问题，而不是民法典中直接存在的具体条文。\n"
     ]
    }
   ],
   "execution_count": 15
  }
 ],
 "metadata": {
  "kernelspec": {
   "display_name": "Python 3",
   "language": "python",
   "name": "python3"
  },
  "language_info": {
   "codemirror_mode": {
    "name": "ipython",
    "version": 2
   },
   "file_extension": ".py",
   "mimetype": "text/x-python",
   "name": "python",
   "nbconvert_exporter": "python",
   "pygments_lexer": "ipython2",
   "version": "2.7.6"
  }
 },
 "nbformat": 4,
 "nbformat_minor": 5
}
