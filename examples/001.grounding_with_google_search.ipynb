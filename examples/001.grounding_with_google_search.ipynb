{
 "cells": [
  {
   "metadata": {},
   "cell_type": "code",
   "source": [
    "import dotenv\n",
    "\n",
    "dotenv.load_dotenv()"
   ],
   "id": "b1e54d76a2cebd5b",
   "outputs": [],
   "execution_count": null
  },
  {
   "cell_type": "code",
   "id": "initial_id",
   "metadata": {
    "collapsed": true
   },
   "source": [
    "import os\n",
    "\n",
    "from google import genai\n",
    "from google.genai import types\n",
    "from pathlib import Path\n",
    "import json\n",
    "\n",
    "\n",
    "client = genai.Client(\n",
    "    api_key=os.environ.get(\"GEMINI_API_KEY\"),\n",
    ")\n",
    "\n",
    "model = \"gemini-2.5-flash\"\n",
    "contents = [\n",
    "    types.Content(\n",
    "        role=\"user\",\n",
    "        parts=[\n",
    "            types.Part.from_text(text=\"\"\"x\"\"\"),\n",
    "        ],\n",
    "    ),\n",
    "]\n",
    "tools = [types.Tool(google_search=types.GoogleSearch())]\n",
    "generate_content_config = types.GenerateContentConfig(\n",
    "    thinking_config=types.ThinkingConfig(\n",
    "        thinking_budget=0, include_thoughts=False\n",
    "    ),\n",
    "    tools=tools,\n",
    "    response_mime_type=\"text/plain\",\n",
    ")\n",
    "response = client.models.generate_content(model=model, contents=contents, config=generate_content_config)\n",
    "\n",
    "res_json = json.dumps(response.model_dump(mode=\"json\"), indent=2, ensure_ascii=False)\n",
    "Path(\"google_search_result.json\").write_text(res_json, encoding=\"utf-8\")"
   ],
   "outputs": [],
   "execution_count": null
  },
  {
   "metadata": {},
   "cell_type": "code",
   "source": "print(response.text)",
   "id": "bb0d88cb2e815f03",
   "outputs": [],
   "execution_count": null
  }
 ],
 "metadata": {
  "kernelspec": {
   "display_name": "Python 3",
   "language": "python",
   "name": "python3"
  },
  "language_info": {
   "codemirror_mode": {
    "name": "ipython",
    "version": 2
   },
   "file_extension": ".py",
   "mimetype": "text/x-python",
   "name": "python",
   "nbconvert_exporter": "python",
   "pygments_lexer": "ipython2",
   "version": "2.7.6"
  }
 },
 "nbformat": 4,
 "nbformat_minor": 5
}
